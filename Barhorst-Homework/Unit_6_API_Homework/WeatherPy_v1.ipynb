{
 "cells": [
  {
   "cell_type": "markdown",
   "metadata": {},
   "source": [
    "# WeatherPy\n",
    "----\n",
    "\n",
    "#### Note\n",
    "* Instructions have been included for each segment. You do not have to follow them exactly, but they are included to help you think through the steps."
   ]
  },
  {
   "cell_type": "code",
   "execution_count": 37,
   "metadata": {
    "scrolled": true
   },
   "outputs": [],
   "source": [
    "%matplotlib inline\n",
    "# Dependencies and Setup\n",
    "import pandas as pd\n",
    "import numpy as np\n",
    "import requests\n",
    "import json\n",
    "import seaborn as sns\n",
    "import matplotlib.pyplot as plt\n",
    "import time\n",
    "\n",
    "# Import API key\n",
    "#from api_keys import api_key\n",
    "\n",
    "# Incorporated citipy to determine city based on latitude and longitude\n",
    "from citipy import citipy\n",
    "\n",
    "# Output File (CSV)\n",
    "#output_data_file = \"output_data/cities.csv\"\n",
    "\n",
    "# Range of latitudes and longitudes\n",
    "lat_range = (-90, 90)\n",
    "lng_range = (-180, 180)"
   ]
  },
  {
   "cell_type": "markdown",
   "metadata": {},
   "source": [
    "## Generate Cities List"
   ]
  },
  {
   "cell_type": "code",
   "execution_count": 38,
   "metadata": {},
   "outputs": [
    {
     "data": {
      "text/plain": [
       "101"
      ]
     },
     "execution_count": 38,
     "metadata": {},
     "output_type": "execute_result"
    }
   ],
   "source": [
    "# List for holding lat_lngs and cities\n",
    "lat_lngs = []\n",
    "cities = []\n",
    "\n",
    "# Create a set of random lat and lng combinations\n",
    "#Only Set to 15\n",
    "lats = np.random.uniform(low=-90.000, high=90.000, size=150)\n",
    "lngs = np.random.uniform(low=-180.000, high=180.000, size=150)\n",
    "#Only Set to 15\n",
    "lat_lngs = zip(lats, lngs)\n",
    "\n",
    "# Identify nearest city for each lat, lng combination\n",
    "for lat_lng in lat_lngs:\n",
    "    city = citipy.nearest_city(lat_lng[0], lat_lng[1]).city_name\n",
    "    \n",
    "    # If the city is unique, then add it to a our cities list\n",
    "    if city not in cities:\n",
    "        cities.append(city)\n",
    "\n",
    "# Print the city count to confirm sufficient count\n",
    "len(cities)"
   ]
  },
  {
   "cell_type": "markdown",
   "metadata": {},
   "source": [
    "### Perform API Calls\n",
    "* Perform a weather check on each city using a series of successive API calls.\n",
    "* Include a print log of each city as it'sbeing processed (with the city number and city name).\n"
   ]
  },
  {
   "cell_type": "code",
   "execution_count": 39,
   "metadata": {},
   "outputs": [],
   "source": [
    "# Save config information.\n",
    "url = \"http://api.openweathermap.org/data/2.5/weather?\"\n",
    "city = cities\n",
    "units = \"metric\"\n",
    "api_key = \"575be4a8306d0d32bee4173eadc6482c\""
   ]
  },
  {
   "cell_type": "code",
   "execution_count": 40,
   "metadata": {},
   "outputs": [
    {
     "data": {
      "text/plain": [
       "{'coord': {'lon': -0.13, 'lat': 51.51},\n",
       " 'weather': [{'id': 803,\n",
       "   'main': 'Clouds',\n",
       "   'description': 'broken clouds',\n",
       "   'icon': '04n'}],\n",
       " 'base': 'stations',\n",
       " 'main': {'temp': 14.36,\n",
       "  'pressure': 1013,\n",
       "  'humidity': 63,\n",
       "  'temp_min': 11.67,\n",
       "  'temp_max': 17},\n",
       " 'visibility': 10000,\n",
       " 'wind': {'speed': 3.6, 'deg': 270},\n",
       " 'clouds': {'all': 65},\n",
       " 'dt': 1563493628,\n",
       " 'sys': {'type': 1,\n",
       "  'id': 1417,\n",
       "  'message': 0.0094,\n",
       "  'country': 'GB',\n",
       "  'sunrise': 1563509115,\n",
       "  'sunset': 1563566876},\n",
       " 'timezone': 3600,\n",
       " 'id': 2643743,\n",
       " 'name': 'London',\n",
       " 'cod': 200}"
      ]
     },
     "execution_count": 40,
     "metadata": {},
     "output_type": "execute_result"
    }
   ],
   "source": [
    "# Test for city of London to see if URL and API work\n",
    "base_url = \"http://api.openweathermap.org/data/2.5/weather?\"\n",
    "query_url_test = f\"{base_url}appid={api_key}&units={units}&q=london\"\n",
    "response=requests.get(query_url_test).json()\n",
    "response"
   ]
  },
  {
   "cell_type": "code",
   "execution_count": 41,
   "metadata": {},
   "outputs": [
    {
     "name": "stdout",
     "output_type": "stream",
     "text": [
      "Beginning Data Retrieval\n",
      "-------------------------------\n",
      "Processing Record 1 of Set 1 | qaanaaq\n",
      "Processing Record 2 of Set 1 | vaini\n",
      "Processing Record 3 of Set 1 | oranjemund\n",
      "Processing Record 4 of Set 1 | sitka\n",
      "City not found. Skipping...\n",
      "Processing Record 5 of Set 1 | deep river\n",
      "Processing Record 6 of Set 1 | saint-philippe\n",
      "Processing Record 7 of Set 1 | tigil\n",
      "Processing Record 8 of Set 1 | albany\n",
      "Processing Record 9 of Set 1 | avarua\n",
      "Processing Record 10 of Set 1 | hopkinton\n",
      "Processing Record 11 of Set 1 | atyrau\n",
      "City not found. Skipping...\n",
      "Processing Record 12 of Set 1 | mataura\n",
      "Processing Record 13 of Set 1 | lanzhou\n",
      "City not found. Skipping...\n",
      "Processing Record 14 of Set 1 | guangzhou\n",
      "Processing Record 15 of Set 1 | barrow\n",
      "Processing Record 16 of Set 1 | atuona\n",
      "Processing Record 17 of Set 1 | talnakh\n",
      "Processing Record 18 of Set 1 | nome\n",
      "Processing Record 19 of Set 1 | khatanga\n",
      "Processing Record 20 of Set 1 | kodiak\n",
      "Processing Record 21 of Set 1 | codrington\n",
      "Processing Record 22 of Set 1 | lebu\n",
      "Processing Record 23 of Set 1 | bredasdorp\n",
      "Processing Record 24 of Set 1 | cidreira\n",
      "Processing Record 25 of Set 1 | rikitea\n",
      "Processing Record 26 of Set 1 | ribeira grande\n",
      "City not found. Skipping...\n",
      "Processing Record 27 of Set 1 | kumukh\n",
      "Processing Record 28 of Set 1 | ushuaia\n",
      "Processing Record 29 of Set 1 | mount gambier\n",
      "Processing Record 30 of Set 1 | hermanus\n",
      "Processing Record 31 of Set 1 | tasiilaq\n",
      "Processing Record 32 of Set 1 | salalah\n",
      "Processing Record 33 of Set 1 | busselton\n",
      "Processing Record 34 of Set 1 | thompson\n",
      "City not found. Skipping...\n",
      "Processing Record 35 of Set 1 | arraial do cabo\n",
      "Processing Record 36 of Set 1 | zlobin\n",
      "Processing Record 37 of Set 1 | flinders\n",
      "Processing Record 38 of Set 1 | butaritari\n",
      "Processing Record 39 of Set 1 | hobart\n",
      "Processing Record 40 of Set 1 | provideniya\n",
      "City not found. Skipping...\n",
      "Processing Record 41 of Set 1 | pangnirtung\n",
      "Processing Record 42 of Set 1 | castro\n",
      "Processing Record 43 of Set 1 | galle\n",
      "Processing Record 44 of Set 1 | punta arenas\n",
      "City not found. Skipping...\n",
      "Processing Record 45 of Set 1 | kulhudhuffushi\n",
      "Processing Record 46 of Set 1 | shinpokh\n",
      "Processing Record 47 of Set 1 | khvoynaya\n",
      "Processing Record 48 of Set 1 | tiksi\n",
      "Processing Record 49 of Set 1 | kahului\n",
      "Processing Record 50 of Set 1 | cayenne\n",
      "Processing Record 1 of Set 2 | annau\n",
      "City not found. Skipping...\n",
      "Processing Record 2 of Set 2 | qasigiannguit\n",
      "Processing Record 3 of Set 2 | tual\n",
      "Processing Record 4 of Set 2 | waddan\n",
      "Processing Record 5 of Set 2 | atar\n",
      "Processing Record 6 of Set 2 | klaksvik\n",
      "Processing Record 7 of Set 2 | mar del plata\n",
      "Processing Record 8 of Set 2 | puerto ayora\n",
      "City not found. Skipping...\n",
      "Processing Record 9 of Set 2 | aykhal\n",
      "Processing Record 10 of Set 2 | kailua\n",
      "Processing Record 11 of Set 2 | deputatskiy\n",
      "Processing Record 12 of Set 2 | tessalit\n",
      "Processing Record 13 of Set 2 | andros town\n",
      "Processing Record 14 of Set 2 | port hedland\n",
      "City not found. Skipping...\n",
      "Processing Record 15 of Set 2 | dudinka\n",
      "Processing Record 16 of Set 2 | berdigestyakh\n",
      "Processing Record 17 of Set 2 | tuktoyaktuk\n",
      "Processing Record 18 of Set 2 | sobolevo\n",
      "City not found. Skipping...\n",
      "Processing Record 19 of Set 2 | gizo\n",
      "Processing Record 20 of Set 2 | itarema\n",
      "Processing Record 21 of Set 2 | faanui\n",
      "Processing Record 22 of Set 2 | cabo san lucas\n",
      "Processing Record 23 of Set 2 | kapaa\n",
      "Processing Record 24 of Set 2 | ilulissat\n",
      "Processing Record 25 of Set 2 | tazovskiy\n",
      "Processing Record 26 of Set 2 | victoria\n",
      "Processing Record 27 of Set 2 | beibei\n",
      "Processing Record 28 of Set 2 | jamestown\n",
      "City not found. Skipping...\n",
      "Processing Record 29 of Set 2 | belaya gora\n",
      "Processing Record 30 of Set 2 | sinop\n",
      "City not found. Skipping...\n",
      "Processing Record 31 of Set 2 | dingle\n",
      "Processing Record 32 of Set 2 | menongue\n",
      "City not found. Skipping...\n",
      "Processing Record 33 of Set 2 | bluff\n",
      "Processing Record 34 of Set 2 | carlsbad\n",
      "Processing Record 35 of Set 2 | port alfred\n",
      "Processing Record 36 of Set 2 | port lincoln\n",
      "Processing Record 37 of Set 2 | smidovich\n",
      "-------------------------------\n",
      "Data Retrieval Complete\n",
      "-------------------------------\n"
     ]
    }
   ],
   "source": [
    "# Create empty lists to append the API data into lists \n",
    "city_name = []\n",
    "cloudiness = []\n",
    "country = []\n",
    "date = []\n",
    "humidity = []\n",
    "lat = []\n",
    "lng = []\n",
    "max_temp = []\n",
    "wind_speed = []\n",
    "\n",
    "# Start the call counter \n",
    "record = 0\n",
    "set= 1\n",
    "count= 0\n",
    "\n",
    "# Log file print statement\n",
    "print(f\"Beginning Data Retrieval\")\n",
    "print(f\"-------------------------------\")\n",
    "\n",
    "#Loop through the cities in the city list \n",
    "for city in cities:\n",
    "    \n",
    "    #used to count to 50 and reset\n",
    "    if count == 50:\n",
    "        #sets a sleep period for api\n",
    "       time.sleep(1.5)\n",
    "       count = 0\n",
    "       record = 0\n",
    "       set+=1\n",
    "    \n",
    "    # Try statement to append calls where value is found \n",
    "    # Not all calls return data as OpenWeatherMap will not have have records in all the cities generated by CityPy module\n",
    "    try: \n",
    "        #response = requests.get(f\"{base_url}&q={city}+{api_key}\").json() \n",
    "        response = requests.get(f\"{base_url}appid={api_key}&units={units}&q={city}\").json()\n",
    "        city_name.append(response[\"name\"])\n",
    "        cloudiness.append(response[\"clouds\"][\"all\"])\n",
    "        country.append(response[\"sys\"][\"country\"])\n",
    "        date.append(response[\"dt\"])\n",
    "        humidity.append(response[\"main\"][\"humidity\"])\n",
    "        max_temp.append(response[\"main\"][\"temp_max\"])\n",
    "        lat.append(response[\"coord\"][\"lat\"])\n",
    "        lng.append(response[\"coord\"][\"lon\"])\n",
    "        wind_speed.append(response[\"wind\"][\"speed\"])\n",
    "        city_record = response[\"name\"]\n",
    "        # Increase counter by one \n",
    "        count += 1\n",
    "        record += 1\n",
    "        print(f\"Processing Record {record} of Set {set} | {city}\")\n",
    "        \n",
    "# If no record found \"skip\" to next call\n",
    "    except:\n",
    "        print(\"City not found. Skipping...\")\n",
    "    continue\n",
    "    \n",
    "# Log file print statement\n",
    "print(f\"-------------------------------\")\n",
    "print(f\"Data Retrieval Complete\")\n",
    "print(f\"-------------------------------\")"
   ]
  },
  {
   "cell_type": "markdown",
   "metadata": {},
   "source": [
    "### Convert Raw Data to DataFrame\n",
    "* Export the city data into a .csv.\n",
    "* Display the DataFrame"
   ]
  },
  {
   "cell_type": "code",
   "execution_count": 42,
   "metadata": {},
   "outputs": [
    {
     "data": {
      "text/plain": [
       "City          87\n",
       "Cloudiness    87\n",
       "Country       87\n",
       "Date          87\n",
       "Humidity      87\n",
       "Lat           87\n",
       "Lng           87\n",
       "Max Temp      87\n",
       "Wind Speed    87\n",
       "dtype: int64"
      ]
     },
     "execution_count": 42,
     "metadata": {},
     "output_type": "execute_result"
    }
   ],
   "source": [
    "# Create a dictonary with the lists generated\n",
    "weatherpy_dict = {\n",
    "    \"City\": city_name,\n",
    "    \"Cloudiness\":cloudiness, \n",
    "    \"Country\":country,\n",
    "    \"Date\":date, \n",
    "    \"Humidity\": humidity,\n",
    "    \"Lat\":lat, \n",
    "    \"Lng\":lng, \n",
    "    \"Max Temp\": max_temp,\n",
    "    \"Wind Speed\":wind_speed\n",
    "}\n",
    "\n",
    "# Create a data frame from dictionary\n",
    "weather_data = pd.DataFrame(weatherpy_dict)\n",
    "\n",
    "# Display count of weather data values \n",
    "weather_data.count()"
   ]
  },
  {
   "cell_type": "code",
   "execution_count": 50,
   "metadata": {},
   "outputs": [
    {
     "data": {
      "text/html": [
       "<div>\n",
       "<style scoped>\n",
       "    .dataframe tbody tr th:only-of-type {\n",
       "        vertical-align: middle;\n",
       "    }\n",
       "\n",
       "    .dataframe tbody tr th {\n",
       "        vertical-align: top;\n",
       "    }\n",
       "\n",
       "    .dataframe thead th {\n",
       "        text-align: right;\n",
       "    }\n",
       "</style>\n",
       "<table border=\"1\" class=\"dataframe\">\n",
       "  <thead>\n",
       "    <tr style=\"text-align: right;\">\n",
       "      <th></th>\n",
       "      <th>City</th>\n",
       "      <th>Cloudiness</th>\n",
       "      <th>Country</th>\n",
       "      <th>Date</th>\n",
       "      <th>Humidity</th>\n",
       "      <th>Lat</th>\n",
       "      <th>Lng</th>\n",
       "      <th>Max Temp</th>\n",
       "      <th>Wind Speed</th>\n",
       "    </tr>\n",
       "  </thead>\n",
       "  <tbody>\n",
       "    <tr>\n",
       "      <th>0</th>\n",
       "      <td>Qaanaaq</td>\n",
       "      <td>99</td>\n",
       "      <td>GL</td>\n",
       "      <td>1563493784</td>\n",
       "      <td>80</td>\n",
       "      <td>77.48</td>\n",
       "      <td>-69.36</td>\n",
       "      <td>5.45</td>\n",
       "      <td>1.67</td>\n",
       "    </tr>\n",
       "    <tr>\n",
       "      <th>1</th>\n",
       "      <td>Vaini</td>\n",
       "      <td>99</td>\n",
       "      <td>IN</td>\n",
       "      <td>1563493645</td>\n",
       "      <td>91</td>\n",
       "      <td>15.34</td>\n",
       "      <td>74.49</td>\n",
       "      <td>24.95</td>\n",
       "      <td>1.08</td>\n",
       "    </tr>\n",
       "    <tr>\n",
       "      <th>2</th>\n",
       "      <td>Oranjemund</td>\n",
       "      <td>8</td>\n",
       "      <td>ZA</td>\n",
       "      <td>1563493785</td>\n",
       "      <td>90</td>\n",
       "      <td>-28.55</td>\n",
       "      <td>16.43</td>\n",
       "      <td>13.55</td>\n",
       "      <td>0.98</td>\n",
       "    </tr>\n",
       "    <tr>\n",
       "      <th>3</th>\n",
       "      <td>Sitka</td>\n",
       "      <td>0</td>\n",
       "      <td>US</td>\n",
       "      <td>1563493785</td>\n",
       "      <td>34</td>\n",
       "      <td>37.17</td>\n",
       "      <td>-99.65</td>\n",
       "      <td>37.78</td>\n",
       "      <td>7.15</td>\n",
       "    </tr>\n",
       "    <tr>\n",
       "      <th>4</th>\n",
       "      <td>Deep River</td>\n",
       "      <td>1</td>\n",
       "      <td>CA</td>\n",
       "      <td>1563493785</td>\n",
       "      <td>57</td>\n",
       "      <td>46.10</td>\n",
       "      <td>-77.49</td>\n",
       "      <td>27.22</td>\n",
       "      <td>3.10</td>\n",
       "    </tr>\n",
       "  </tbody>\n",
       "</table>\n",
       "</div>"
      ],
      "text/plain": [
       "         City  Cloudiness Country        Date  Humidity    Lat    Lng  \\\n",
       "0     Qaanaaq          99      GL  1563493784        80  77.48 -69.36   \n",
       "1       Vaini          99      IN  1563493645        91  15.34  74.49   \n",
       "2  Oranjemund           8      ZA  1563493785        90 -28.55  16.43   \n",
       "3       Sitka           0      US  1563493785        34  37.17 -99.65   \n",
       "4  Deep River           1      CA  1563493785        57  46.10 -77.49   \n",
       "\n",
       "   Max Temp  Wind Speed  \n",
       "0      5.45        1.67  \n",
       "1     24.95        1.08  \n",
       "2     13.55        0.98  \n",
       "3     37.78        7.15  \n",
       "4     27.22        3.10  "
      ]
     },
     "execution_count": 50,
     "metadata": {},
     "output_type": "execute_result"
    }
   ],
   "source": [
    "# Save data frame to CSV\n",
    "weather_data.to_csv('weather_data.csv')\n",
    "weather_data.head()"
   ]
  },
  {
   "cell_type": "markdown",
   "metadata": {},
   "source": [
    "### Plotting the Data\n",
    "* Use proper labeling of the plots using plot titles (including date of analysis) and axes labels.\n",
    "* Save the plotted figures as .pngs."
   ]
  },
  {
   "cell_type": "markdown",
   "metadata": {},
   "source": [
    "#### Latitude vs. Temperature Plot"
   ]
  },
  {
   "cell_type": "code",
   "execution_count": 51,
   "metadata": {},
   "outputs": [
    {
     "data": {
      "image/png": "[encoded data removed]",
      "text/plain": [
       "<Figure size 432x288 with 1 Axes>"
      ]
     },
     "metadata": {
      "needs_background": "light"
     },
     "output_type": "display_data"
    }
   ],
   "source": [
    "# Build a scatter plot for each data type\n",
    "plt.scatter(weather_data[\"Lat\"], weather_data[\"Max Temp\"], marker=\"o\", s=10)\n",
    "\n",
    "# Incorporate the other graph properties\n",
    "plt.title(\"City Latitude vs. Max Temperature (07/20/2019)\")\n",
    "plt.ylabel(\"Max. Temperature (F)\")\n",
    "plt.xlabel(\"Latitude\")\n",
    "plt.grid(True)\n",
    "\n",
    "# Save the figure\n",
    "plt.savefig(\"Max_Temp_vs_Latitude.png\")\n",
    "\n",
    "# Show plot\n",
    "plt.show()"
   ]
  },
  {
   "cell_type": "markdown",
   "metadata": {},
   "source": [
    "#### Latitude vs. Humidity Plot"
   ]
  },
  {
   "cell_type": "code",
   "execution_count": 52,
   "metadata": {},
   "outputs": [
    {
     "data": {
      "image/png": "[encoded data removed]",
      "text/plain": [
       "<Figure size 432x288 with 1 Axes>"
      ]
     },
     "metadata": {
      "needs_background": "light"
     },
     "output_type": "display_data"
    }
   ],
   "source": [
    "# Build a scatter plot for each data type\n",
    "plt.scatter(weather_data[\"Lat\"], weather_data[\"Humidity\"], marker=\"o\", s=10)\n",
    "\n",
    "# Incorporate the other graph properties\n",
    "plt.title(\"City Latitude vs. Humidity (07/20/2019)\")\n",
    "plt.ylabel(\"Humidity (%)\")\n",
    "plt.xlabel(\"Latitude\")\n",
    "plt.grid(True)\n",
    "\n",
    "# Save the figure\n",
    "plt.savefig(\"Humidity_vs_Latitude.png\")\n",
    "\n",
    "# Show plot\n",
    "plt.show()"
   ]
  },
  {
   "cell_type": "markdown",
   "metadata": {},
   "source": [
    "#### Latitude vs. Cloudiness Plot"
   ]
  },
  {
   "cell_type": "code",
   "execution_count": 53,
   "metadata": {},
   "outputs": [
    {
     "data": {
      "image/png": "[encoded data removed]",
      "text/plain": [
       "<Figure size 432x288 with 1 Axes>"
      ]
     },
     "metadata": {
      "needs_background": "light"
     },
     "output_type": "display_data"
    }
   ],
   "source": [
    "# Build a scatter plot for each data type\n",
    "plt.scatter(weather_data[\"Lat\"], weather_data[\"Cloudiness\"], marker=\"o\", s=10)\n",
    "\n",
    "# Incorporate the other graph properties\n",
    "plt.title(\"City Latitude vs. Cloudiness (07/20/2019)\")\n",
    "plt.ylabel(\"Cloudiness (%)\")\n",
    "plt.xlabel(\"Latitude\")\n",
    "plt.grid(True)\n",
    "\n",
    "# Save the figure\n",
    "plt.savefig(\"Cloudiness_vs_Latitude.png\")\n",
    "\n",
    "# Show plot\n",
    "plt.show()"
   ]
  },
  {
   "cell_type": "markdown",
   "metadata": {},
   "source": [
    "#### Latitude vs. Wind Speed Plot"
   ]
  },
  {
   "cell_type": "code",
   "execution_count": 54,
   "metadata": {},
   "outputs": [
    {
     "data": {
      "image/png": "[encoded data removed]",
      "text/plain": [
       "<Figure size 432x288 with 1 Axes>"
      ]
     },
     "metadata": {
      "needs_background": "light"
     },
     "output_type": "display_data"
    }
   ],
   "source": [
    "# Build a scatter plot for each data type\n",
    "plt.scatter(weather_data[\"Lat\"], weather_data[\"Wind Speed\"], marker=\"o\", s=10)\n",
    "\n",
    "# Incorporate the other graph properties\n",
    "plt.title(\"City Latitude vs. Wind Speed (07/20/2019)\")\n",
    "plt.ylabel(\"Wind Speed (mph)\")\n",
    "plt.xlabel(\"Latitude\")\n",
    "plt.grid(True)\n",
    "\n",
    "# Save the figure\n",
    "plt.savefig(\"Wind_Speed_vs_Latitude.png\")\n",
    "\n",
    "# Show plot\n",
    "plt.show()"
   ]
  },
  {
   "cell_type": "code",
   "execution_count": null,
   "metadata": {},
   "outputs": [],
   "source": []
  }
 ],
 "metadata": {
  "anaconda-cloud": {},
  "kernel_info": {
   "name": "python3"
  },
  "kernelspec": {
   "display_name": "Python 3",
   "language": "python",
   "name": "python3"
  },
  "language_info": {
   "codemirror_mode": {
    "name": "ipython",
    "version": 3
   },
   "file_extension": ".py",
   "mimetype": "text/x-python",
   "name": "python",
   "nbconvert_exporter": "python",
   "pygments_lexer": "ipython3",
   "version": "3.7.3"
  },
  "nteract": {
   "version": "0.12.3"
  }
 },
 "nbformat": 4,
 "nbformat_minor": 2
}
