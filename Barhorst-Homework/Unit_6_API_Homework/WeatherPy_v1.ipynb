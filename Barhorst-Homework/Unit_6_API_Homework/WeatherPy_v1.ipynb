{
 "cells": [
  {
   "cell_type": "markdown",
   "metadata": {},
   "source": [
    "# WeatherPy\n",
    "----\n",
    "\n",
    "#### Note\n",
    "* Instructions have been included for each segment. You do not have to follow them exactly, but they are included to help you think through the steps."
   ]
  },
  {
   "cell_type": "markdown",
   "metadata": {},
   "source": [
    "Your objective is to build a series of scatter plots to showcase the following relationships:\n",
    "\n",
    "\n",
    "Temperature (F) vs. Latitude\n",
    "Humidity (%) vs. Latitude\n",
    "Cloudiness (%) vs. Latitude\n",
    "Wind Speed (mph) vs. Latitude\n",
    "\n",
    "\n",
    "Your final notebook must:\n",
    "\n",
    "\n",
    "Randomly select at least 500 unique (non-repeat) cities based on latitude and longitude.\n",
    "Perform a weather check on each of the cities using a series of successive API calls.\n",
    "Include a print log of each city as it's being processed with the city number and city name.\n",
    "Save both a CSV of all data retrieved and png images for each scatter plot."
   ]
  },
  {
   "cell_type": "code",
   "execution_count": 59,
   "metadata": {
    "scrolled": true
   },
   "outputs": [],
   "source": [
    "%matplotlib inline\n",
    "# Dependencies and Setup\n",
    "import pandas as pd\n",
    "import numpy as np\n",
    "import requests\n",
    "import json\n",
    "import seaborn as sns\n",
    "import matplotlib.pyplot as plt\n",
    "import time\n",
    "import datetime\n",
    "\n",
    "# Import API key\n",
    "from api_keys import api_key\n",
    "\n",
    "# Incorporated citipy to determine city based on latitude and longitude\n",
    "from citipy import citipy\n",
    "\n",
    "# Range of latitudes and longitudes\n",
    "lat_range = (-90, 90)\n",
    "lng_range = (-180, 180)"
   ]
  },
  {
   "cell_type": "markdown",
   "metadata": {},
   "source": [
    "## Generate Cities List"
   ]
  },
  {
   "cell_type": "code",
   "execution_count": 60,
   "metadata": {},
   "outputs": [
    {
     "data": {
      "text/plain": [
       "109"
      ]
     },
     "execution_count": 60,
     "metadata": {},
     "output_type": "execute_result"
    }
   ],
   "source": [
    "# List for holding lat_lngs and cities\n",
    "lat_lngs = []\n",
    "cities = []\n",
    "\n",
    "# Create a set of random lat and lng combinations\n",
    "#Only Set to 15\n",
    "lats = np.random.uniform(low=-90.000, high=90.000, size=150)\n",
    "lngs = np.random.uniform(low=-180.000, high=180.000, size=150)\n",
    "#Only Set to 15\n",
    "lat_lngs = zip(lats, lngs)\n",
    "\n",
    "# Identify nearest city for each lat, lng combination\n",
    "for lat_lng in lat_lngs:\n",
    "    city = citipy.nearest_city(lat_lng[0], lat_lng[1]).city_name\n",
    "    \n",
    "    # If the city is unique, then add it to a our cities list\n",
    "    if city not in cities:\n",
    "        cities.append(city)\n",
    "\n",
    "# Print the city count to confirm sufficient count\n",
    "len(cities)"
   ]
  },
  {
   "cell_type": "markdown",
   "metadata": {},
   "source": [
    "### Perform API Calls\n",
    "* Perform a weather check on each city using a series of successive API calls.\n",
    "* Include a print log of each city as it'sbeing processed (with the city number and city name).\n"
   ]
  },
  {
   "cell_type": "code",
   "execution_count": 61,
   "metadata": {},
   "outputs": [],
   "source": [
    "# Save config information.\n",
    "url = \"http://api.openweathermap.org/data/2.5/weather?\"\n",
    "city = cities\n",
    "#Plots are listed in Imperial\n",
    "units = \"imperial\"\n",
    "#Manual API option\n",
    "#api_key = \"575be4a8306d0d32bee4173eadc6482c\""
   ]
  },
  {
   "cell_type": "code",
   "execution_count": 62,
   "metadata": {},
   "outputs": [
    {
     "data": {
      "text/plain": [
       "{'coord': {'lon': -0.13, 'lat': 51.51},\n",
       " 'weather': [{'id': 500,\n",
       "   'main': 'Rain',\n",
       "   'description': 'light rain',\n",
       "   'icon': '10d'},\n",
       "  {'id': 310,\n",
       "   'main': 'Drizzle',\n",
       "   'description': 'light intensity drizzle rain',\n",
       "   'icon': '09d'},\n",
       "  {'id': 701, 'main': 'Mist', 'description': 'mist', 'icon': '50d'}],\n",
       " 'base': 'stations',\n",
       " 'main': {'temp': 64.09,\n",
       "  'pressure': 1009,\n",
       "  'humidity': 88,\n",
       "  'temp_min': 62.01,\n",
       "  'temp_max': 66.2},\n",
       " 'visibility': 10000,\n",
       " 'wind': {'speed': 10.29, 'deg': 210},\n",
       " 'clouds': {'all': 90},\n",
       " 'dt': 1563565875,\n",
       " 'sys': {'type': 1,\n",
       "  'id': 1414,\n",
       "  'message': 0.0111,\n",
       "  'country': 'GB',\n",
       "  'sunrise': 1563509115,\n",
       "  'sunset': 1563566876},\n",
       " 'timezone': 3600,\n",
       " 'id': 2643743,\n",
       " 'name': 'London',\n",
       " 'cod': 200}"
      ]
     },
     "execution_count": 62,
     "metadata": {},
     "output_type": "execute_result"
    }
   ],
   "source": [
    "# Test for city of London to see if URL and API work\n",
    "base_url = \"http://api.openweathermap.org/data/2.5/weather?\"\n",
    "query_url_test = f\"{base_url}appid={api_key}&units={units}&q=london\"\n",
    "response=requests.get(query_url_test).json()\n",
    "response"
   ]
  },
  {
   "cell_type": "code",
   "execution_count": 63,
   "metadata": {},
   "outputs": [
    {
     "data": {
      "text/plain": [
       "datetime.datetime(2019, 7, 20, 16, 0)"
      ]
     },
     "execution_count": 63,
     "metadata": {},
     "output_type": "execute_result"
    }
   ],
   "source": [
    "#Date format not operable\n",
    "#https://avilpage.com/2014/11/python-unix-timestamp-utc-and-their.html\n",
    "datetime.datetime.utcfromtimestamp(response[\"dt\"])\n",
    "datetime.datetime(2019, 7, 20, 16, 0, 0)"
   ]
  },
  {
   "cell_type": "code",
   "execution_count": 64,
   "metadata": {},
   "outputs": [
    {
     "name": "stdout",
     "output_type": "stream",
     "text": [
      "Beginning Data Retrieval\n",
      "-------------------------------\n",
      "Processing Record 1 of Set 1 | mataura\n",
      "Processing Record 2 of Set 1 | kruisfontein\n",
      "Processing Record 3 of Set 1 | hilo\n",
      "Processing Record 4 of Set 1 | antalaha\n",
      "Processing Record 5 of Set 1 | juneau\n",
      "Processing Record 6 of Set 1 | phan thiet\n",
      "Processing Record 7 of Set 1 | castro\n",
      "Processing Record 8 of Set 1 | qaanaaq\n",
      "Processing Record 9 of Set 1 | tual\n",
      "Processing Record 10 of Set 1 | busselton\n",
      "Processing Record 11 of Set 1 | yellowknife\n",
      "Processing Record 12 of Set 1 | chuy\n",
      "Processing Record 13 of Set 1 | cape town\n",
      "Processing Record 14 of Set 1 | logumkloster\n",
      "Processing Record 15 of Set 1 | rikitea\n",
      "Processing Record 16 of Set 1 | jamestown\n",
      "Processing Record 17 of Set 1 | port blair\n",
      "Processing Record 18 of Set 1 | vetluzhskiy\n",
      "Processing Record 19 of Set 1 | new norfolk\n",
      "Processing Record 20 of Set 1 | victoria\n",
      "Processing Record 21 of Set 1 | popondetta\n",
      "City not found. Skipping...\n",
      "Processing Record 22 of Set 1 | kapaa\n",
      "Processing Record 23 of Set 1 | bluff\n",
      "Processing Record 24 of Set 1 | torbay\n",
      "City not found. Skipping...\n",
      "City not found. Skipping...\n",
      "Processing Record 25 of Set 1 | provideniya\n",
      "Processing Record 26 of Set 1 | bismarck\n",
      "Processing Record 27 of Set 1 | butaritari\n",
      "Processing Record 28 of Set 1 | punta arenas\n",
      "Processing Record 29 of Set 1 | birjand\n",
      "Processing Record 30 of Set 1 | paita\n",
      "Processing Record 31 of Set 1 | barrow\n",
      "City not found. Skipping...\n",
      "Processing Record 32 of Set 1 | noumea\n",
      "Processing Record 33 of Set 1 | albany\n",
      "Processing Record 34 of Set 1 | hasaki\n",
      "City not found. Skipping...\n",
      "Processing Record 35 of Set 1 | tiksi\n",
      "Processing Record 36 of Set 1 | ushuaia\n",
      "City not found. Skipping...\n",
      "Processing Record 37 of Set 1 | tuktoyaktuk\n",
      "Processing Record 38 of Set 1 | mar del plata\n",
      "Processing Record 39 of Set 1 | dikson\n",
      "Processing Record 40 of Set 1 | port alfred\n",
      "Processing Record 41 of Set 1 | chokurdakh\n",
      "Processing Record 42 of Set 1 | san patricio\n",
      "Processing Record 43 of Set 1 | vostok\n",
      "Processing Record 44 of Set 1 | port elizabeth\n",
      "Processing Record 45 of Set 1 | leningradskiy\n",
      "Processing Record 46 of Set 1 | turukhansk\n",
      "Processing Record 47 of Set 1 | rosario do sul\n",
      "Processing Record 48 of Set 1 | nantucket\n",
      "Processing Record 49 of Set 1 | naze\n",
      "Processing Record 50 of Set 1 | vaini\n",
      "Processing Record 1 of Set 2 | kavaratti\n",
      "Processing Record 2 of Set 2 | ahipara\n",
      "Processing Record 3 of Set 2 | flinders\n",
      "Processing Record 4 of Set 2 | chute-aux-outardes\n",
      "Processing Record 5 of Set 2 | puerto ayora\n",
      "Processing Record 6 of Set 2 | kalur kot\n",
      "Processing Record 7 of Set 2 | atuona\n",
      "Processing Record 8 of Set 2 | rio gallegos\n",
      "Processing Record 9 of Set 2 | beloha\n",
      "Processing Record 10 of Set 2 | georgetown\n",
      "Processing Record 11 of Set 2 | saint-philippe\n",
      "Processing Record 12 of Set 2 | maua\n",
      "Processing Record 13 of Set 2 | faanui\n",
      "Processing Record 14 of Set 2 | klaksvik\n",
      "Processing Record 15 of Set 2 | ulaangom\n",
      "Processing Record 16 of Set 2 | bambous virieux\n",
      "Processing Record 17 of Set 2 | sao gabriel da cachoeira\n",
      "Processing Record 18 of Set 2 | beringovskiy\n",
      "Processing Record 19 of Set 2 | ponta do sol\n",
      "Processing Record 20 of Set 2 | pahrump\n",
      "Processing Record 21 of Set 2 | misratah\n",
      "Processing Record 22 of Set 2 | atar\n",
      "City not found. Skipping...\n",
      "Processing Record 23 of Set 2 | geraldton\n",
      "Processing Record 24 of Set 2 | kodiak\n",
      "City not found. Skipping...\n",
      "Processing Record 25 of Set 2 | soria\n",
      "City not found. Skipping...\n",
      "Processing Record 26 of Set 2 | hermanus\n",
      "Processing Record 27 of Set 2 | ewa beach\n",
      "Processing Record 28 of Set 2 | katsuura\n",
      "Processing Record 29 of Set 2 | sturgeon bay\n",
      "Processing Record 30 of Set 2 | saint george\n",
      "Processing Record 31 of Set 2 | seryshevo\n",
      "Processing Record 32 of Set 2 | esperance\n",
      "City not found. Skipping...\n",
      "Processing Record 33 of Set 2 | chota\n",
      "Processing Record 34 of Set 2 | stony plain\n",
      "Processing Record 35 of Set 2 | mehamn\n",
      "Processing Record 36 of Set 2 | sanming\n",
      "Processing Record 37 of Set 2 | kaniama\n",
      "Processing Record 38 of Set 2 | niquero\n",
      "Processing Record 39 of Set 2 | udachnyy\n",
      "Processing Record 40 of Set 2 | lorengau\n",
      "Processing Record 41 of Set 2 | egvekinot\n",
      "Processing Record 42 of Set 2 | saskylakh\n",
      "Processing Record 43 of Set 2 | hithadhoo\n",
      "Processing Record 44 of Set 2 | cherskiy\n",
      "Processing Record 45 of Set 2 | cidreira\n",
      "Processing Record 46 of Set 2 | syriam\n",
      "Processing Record 47 of Set 2 | buraydah\n",
      "City not found. Skipping...\n",
      "City not found. Skipping...\n",
      "-------------------------------\n",
      "Data Retrieval Complete\n",
      "-------------------------------\n"
     ]
    }
   ],
   "source": [
    "# Create empty lists to append the API data into lists \n",
    "city_name = []\n",
    "city_id = []\n",
    "cloudiness = []\n",
    "country = []\n",
    "date = []\n",
    "humidity = []\n",
    "lat = []\n",
    "lng = []\n",
    "max_temp = []\n",
    "wind_speed = []\n",
    "\n",
    "# Start the call counter \n",
    "record = 0\n",
    "set= 1\n",
    "count= 0\n",
    "\n",
    "# Log file print statement\n",
    "print(f\"Beginning Data Retrieval\")\n",
    "print(f\"-------------------------------\")\n",
    "\n",
    "#Loop through the cities in the city list \n",
    "for city in cities:\n",
    "    \n",
    "    #used to count to 50 and reset\n",
    "    if count == 50:\n",
    "        #sets a sleep period for api\n",
    "       time.sleep(1)\n",
    "       count = 0\n",
    "       record = 0\n",
    "       set+=1\n",
    "    \n",
    "    # Try statement to append calls where value is found \n",
    "    # Not all calls return data as OpenWeatherMap will not have have records in all the cities generated by CityPy module\n",
    "    try: \n",
    "        response = requests.get(f\"{base_url}appid={api_key}&units={units}&q={city}\").json()\n",
    "        city_name.append(response[\"name\"])\n",
    "        city_id.append(response[\"id\"])\n",
    "        cloudiness.append(response[\"clouds\"][\"all\"])\n",
    "        country.append(response[\"sys\"][\"country\"])\n",
    "        date.append(response[\"dt\"])\n",
    "        humidity.append(response[\"main\"][\"humidity\"])\n",
    "        max_temp.append(response[\"main\"][\"temp_max\"])\n",
    "        lat.append(response[\"coord\"][\"lat\"])\n",
    "        lng.append(response[\"coord\"][\"lon\"])\n",
    "        wind_speed.append(response[\"wind\"][\"speed\"])\n",
    "        #city_record = response[\"name\"]\n",
    "        \n",
    "        # Increase counter by one \n",
    "        count += 1\n",
    "        record += 1\n",
    "        \n",
    "        #Print log of each city as it's being processed with the city number and city name.\n",
    "        #print(f\"Processing Record {record} of Set {set} | {city_id} {city}\")\n",
    "        print(f\"Processing Record {record} of Set {set} | {city}\")\n",
    "        \n",
    "# If no record found \"skip\" to next call\n",
    "    except:\n",
    "        print(\"City not found. Skipping...\")\n",
    "    continue\n",
    "    \n",
    "# Log file print statement\n",
    "print(f\"-------------------------------\")\n",
    "print(f\"Data Retrieval Complete\")\n",
    "print(f\"-------------------------------\")"
   ]
  },
  {
   "cell_type": "markdown",
   "metadata": {},
   "source": [
    "### Convert Raw Data to DataFrame\n",
    "* Export the city data into a .csv.\n",
    "* Display the DataFrame"
   ]
  },
  {
   "cell_type": "code",
   "execution_count": 65,
   "metadata": {},
   "outputs": [
    {
     "data": {
      "text/plain": [
       "City          97\n",
       "Cloudiness    97\n",
       "Country       97\n",
       "Date          97\n",
       "Humidity      97\n",
       "Lat           97\n",
       "Lng           97\n",
       "Max Temp      97\n",
       "Wind Speed    97\n",
       "dtype: int64"
      ]
     },
     "execution_count": 65,
     "metadata": {},
     "output_type": "execute_result"
    }
   ],
   "source": [
    "# Create a dictonary with the lists generated\n",
    "weatherpy_dict = {\n",
    "    \"City\": city_name,\n",
    "    #Unsure if a City ID needs to be displayed, requested in instructions but the example does not show a ID\n",
    "    #\"City ID\": city_id,\n",
    "    \"Cloudiness\":cloudiness, \n",
    "    \"Country\":country,\n",
    "    \"Date\":date, \n",
    "    \"Humidity\": humidity,\n",
    "    \"Lat\":lat, \n",
    "    \"Lng\":lng, \n",
    "    \"Max Temp\": max_temp,\n",
    "    \"Wind Speed\":wind_speed\n",
    "}\n",
    "\n",
    "# Create a data frame from dictionary\n",
    "weather_data = pd.DataFrame(weatherpy_dict)\n",
    "\n",
    "# Display count of weather data values \n",
    "weather_data.count()"
   ]
  },
  {
   "cell_type": "code",
   "execution_count": 66,
   "metadata": {},
   "outputs": [
    {
     "data": {
      "text/html": [
       "<div>\n",
       "<style scoped>\n",
       "    .dataframe tbody tr th:only-of-type {\n",
       "        vertical-align: middle;\n",
       "    }\n",
       "\n",
       "    .dataframe tbody tr th {\n",
       "        vertical-align: top;\n",
       "    }\n",
       "\n",
       "    .dataframe thead th {\n",
       "        text-align: right;\n",
       "    }\n",
       "</style>\n",
       "<table border=\"1\" class=\"dataframe\">\n",
       "  <thead>\n",
       "    <tr style=\"text-align: right;\">\n",
       "      <th></th>\n",
       "      <th>City</th>\n",
       "      <th>Cloudiness</th>\n",
       "      <th>Country</th>\n",
       "      <th>Date</th>\n",
       "      <th>Humidity</th>\n",
       "      <th>Lat</th>\n",
       "      <th>Lng</th>\n",
       "      <th>Max Temp</th>\n",
       "      <th>Wind Speed</th>\n",
       "    </tr>\n",
       "  </thead>\n",
       "  <tbody>\n",
       "    <tr>\n",
       "      <th>0</th>\n",
       "      <td>Mataura</td>\n",
       "      <td>100</td>\n",
       "      <td>NZ</td>\n",
       "      <td>1563566361</td>\n",
       "      <td>97</td>\n",
       "      <td>-46.19</td>\n",
       "      <td>168.86</td>\n",
       "      <td>45.00</td>\n",
       "      <td>3.00</td>\n",
       "    </tr>\n",
       "    <tr>\n",
       "      <th>1</th>\n",
       "      <td>Kruisfontein</td>\n",
       "      <td>76</td>\n",
       "      <td>ZA</td>\n",
       "      <td>1563566362</td>\n",
       "      <td>70</td>\n",
       "      <td>-34.00</td>\n",
       "      <td>24.73</td>\n",
       "      <td>48.91</td>\n",
       "      <td>27.69</td>\n",
       "    </tr>\n",
       "    <tr>\n",
       "      <th>2</th>\n",
       "      <td>Hilo</td>\n",
       "      <td>75</td>\n",
       "      <td>US</td>\n",
       "      <td>1563566193</td>\n",
       "      <td>69</td>\n",
       "      <td>19.71</td>\n",
       "      <td>-155.08</td>\n",
       "      <td>82.00</td>\n",
       "      <td>16.96</td>\n",
       "    </tr>\n",
       "    <tr>\n",
       "      <th>3</th>\n",
       "      <td>Antalaha</td>\n",
       "      <td>13</td>\n",
       "      <td>MG</td>\n",
       "      <td>1563566362</td>\n",
       "      <td>98</td>\n",
       "      <td>-14.90</td>\n",
       "      <td>50.28</td>\n",
       "      <td>61.69</td>\n",
       "      <td>4.47</td>\n",
       "    </tr>\n",
       "    <tr>\n",
       "      <th>4</th>\n",
       "      <td>Juneau</td>\n",
       "      <td>90</td>\n",
       "      <td>US</td>\n",
       "      <td>1563566116</td>\n",
       "      <td>93</td>\n",
       "      <td>58.30</td>\n",
       "      <td>-134.42</td>\n",
       "      <td>59.00</td>\n",
       "      <td>13.87</td>\n",
       "    </tr>\n",
       "  </tbody>\n",
       "</table>\n",
       "</div>"
      ],
      "text/plain": [
       "           City  Cloudiness Country        Date  Humidity    Lat     Lng  \\\n",
       "0       Mataura         100      NZ  1563566361        97 -46.19  168.86   \n",
       "1  Kruisfontein          76      ZA  1563566362        70 -34.00   24.73   \n",
       "2          Hilo          75      US  1563566193        69  19.71 -155.08   \n",
       "3      Antalaha          13      MG  1563566362        98 -14.90   50.28   \n",
       "4        Juneau          90      US  1563566116        93  58.30 -134.42   \n",
       "\n",
       "   Max Temp  Wind Speed  \n",
       "0     45.00        3.00  \n",
       "1     48.91       27.69  \n",
       "2     82.00       16.96  \n",
       "3     61.69        4.47  \n",
       "4     59.00       13.87  "
      ]
     },
     "execution_count": 66,
     "metadata": {},
     "output_type": "execute_result"
    }
   ],
   "source": [
    "# Save data frame to CSV\n",
    "weather_data.to_csv('weather_data.csv')\n",
    "weather_data.head()"
   ]
  },
  {
   "cell_type": "markdown",
   "metadata": {},
   "source": [
    "### Plotting the Data\n",
    "* Use proper labeling of the plots using plot titles (including date of analysis) and axes labels.\n",
    "* Save the plotted figures as .pngs."
   ]
  },
  {
   "cell_type": "markdown",
   "metadata": {},
   "source": [
    "#### Latitude vs. Temperature Plot"
   ]
  },
  {
   "cell_type": "code",
   "execution_count": 67,
   "metadata": {},
   "outputs": [
    {
     "data": {
      "image/png": "[encoded data removed]",
      "text/plain": [
       "<Figure size 432x288 with 1 Axes>"
      ]
     },
     "metadata": {
      "needs_background": "light"
     },
     "output_type": "display_data"
    }
   ],
   "source": [
    "# Build a scatter plot for each data type\n",
    "plt.scatter(weather_data[\"Lat\"], weather_data[\"Max Temp\"], marker=\"o\", s=10)\n",
    "\n",
    "# Incorporate the other graph properties\n",
    "plt.title(\"City Latitude vs. Max Temperature (07/20/2019)\")\n",
    "plt.ylabel(\"Max. Temperature (F)\")\n",
    "plt.xlabel(\"Latitude\")\n",
    "plt.grid(True)\n",
    "\n",
    "# Save the figure\n",
    "plt.savefig(\"Max_Temp_vs_Latitude.png\")\n",
    "\n",
    "# Show plot\n",
    "plt.show()"
   ]
  },
  {
   "cell_type": "markdown",
   "metadata": {},
   "source": [
    "This graph is the most definitive to display the differences between those cities furthest away from the equator. 23 1/2 Degrees Noth and South of the equator are considered the tropics and the temperature drops significantly. ALso noted the Northern Hemisphere is in the Summer season while the Southern Hemisphere is winter."
   ]
  },
  {
   "cell_type": "markdown",
   "metadata": {},
   "source": [
    "#### Latitude vs. Humidity Plot"
   ]
  },
  {
   "cell_type": "code",
   "execution_count": 38,
   "metadata": {},
   "outputs": [
    {
     "data": {
      "image/png": "[encoded data removed]",
      "text/plain": [
       "<Figure size 432x288 with 1 Axes>"
      ]
     },
     "metadata": {
      "needs_background": "light"
     },
     "output_type": "display_data"
    }
   ],
   "source": [
    "# Build a scatter plot for each data type\n",
    "plt.scatter(weather_data[\"Lat\"], weather_data[\"Humidity\"], marker=\"o\", s=10)\n",
    "\n",
    "# Incorporate the other graph properties\n",
    "plt.title(\"City Latitude vs. Humidity (07/20/2019)\")\n",
    "plt.ylabel(\"Humidity (%)\")\n",
    "plt.xlabel(\"Latitude\")\n",
    "plt.grid(True)\n",
    "\n",
    "# Save the figure\n",
    "plt.savefig(\"Humidity_vs_Latitude.png\")\n",
    "\n",
    "# Show plot\n",
    "plt.show()"
   ]
  },
  {
   "cell_type": "markdown",
   "metadata": {},
   "source": [
    "Cities closer to the equator have the most hunidty and often drop off further away. Note that many cities in the South America equatorial belt are on the Andes Mountians and Eastern African cities are built at high elevations and this likely skews results."
   ]
  },
  {
   "cell_type": "markdown",
   "metadata": {},
   "source": [
    "#### Latitude vs. Cloudiness Plot"
   ]
  },
  {
   "cell_type": "code",
   "execution_count": 39,
   "metadata": {},
   "outputs": [
    {
     "data": {
      "image/png": "[encoded data removed]",
      "text/plain": [
       "<Figure size 432x288 with 1 Axes>"
      ]
     },
     "metadata": {
      "needs_background": "light"
     },
     "output_type": "display_data"
    }
   ],
   "source": [
    "# Build a scatter plot for each data type\n",
    "plt.scatter(weather_data[\"Lat\"], weather_data[\"Cloudiness\"], marker=\"o\", s=10)\n",
    "\n",
    "# Incorporate the other graph properties\n",
    "plt.title(\"City Latitude vs. Cloudiness (07/20/2019)\")\n",
    "plt.ylabel(\"Cloudiness (%)\")\n",
    "plt.xlabel(\"Latitude\")\n",
    "plt.grid(True)\n",
    "\n",
    "# Save the figure\n",
    "plt.savefig(\"Cloudiness_vs_Latitude.png\")\n",
    "\n",
    "# Show plot\n",
    "plt.show()"
   ]
  },
  {
   "cell_type": "markdown",
   "metadata": {},
   "source": [
    "Cities near the equator have more clouds than furth away from the equator. However its hard to generalize this graph as the data is fairly consistent across latitudes."
   ]
  },
  {
   "cell_type": "markdown",
   "metadata": {},
   "source": [
    "#### Latitude vs. Wind Speed Plot"
   ]
  },
  {
   "cell_type": "code",
   "execution_count": 40,
   "metadata": {},
   "outputs": [
    {
     "data": {
      "image/png": "[encoded data removed]",
      "text/plain": [
       "<Figure size 432x288 with 1 Axes>"
      ]
     },
     "metadata": {
      "needs_background": "light"
     },
     "output_type": "display_data"
    }
   ],
   "source": [
    "# Build a scatter plot for each data type\n",
    "plt.scatter(weather_data[\"Lat\"], weather_data[\"Wind Speed\"], marker=\"o\", s=10)\n",
    "\n",
    "# Incorporate the other graph properties\n",
    "plt.title(\"City Latitude vs. Wind Speed (07/20/2019)\")\n",
    "plt.ylabel(\"Wind Speed (mph)\")\n",
    "plt.xlabel(\"Latitude\")\n",
    "plt.grid(True)\n",
    "\n",
    "# Save the figure\n",
    "plt.savefig(\"Wind_Speed_vs_Latitude.png\")\n",
    "\n",
    "# Show plot\n",
    "plt.show()"
   ]
  },
  {
   "cell_type": "markdown",
   "metadata": {},
   "source": [
    "Overall the vast majority of Cities in any latitude have wind speeds below 10 miles per hour. Outliers with high wind speeds above 20 MPH occur more frequntly further from the equator."
   ]
  }
 ],
 "metadata": {
  "anaconda-cloud": {},
  "kernel_info": {
   "name": "python3"
  },
  "kernelspec": {
   "display_name": "Python 3",
   "language": "python",
   "name": "python3"
  },
  "language_info": {
   "codemirror_mode": {
    "name": "ipython",
    "version": 3
   },
   "file_extension": ".py",
   "mimetype": "text/x-python",
   "name": "python",
   "nbconvert_exporter": "python",
   "pygments_lexer": "ipython3",
   "version": "3.7.3"
  },
  "nteract": {
   "version": "0.12.3"
  }
 },
 "nbformat": 4,
 "nbformat_minor": 2
}
